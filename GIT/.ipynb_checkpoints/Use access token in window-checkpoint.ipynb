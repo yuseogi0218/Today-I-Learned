{
 "cells": [
  {
   "cell_type": "markdown",
   "metadata": {},
   "source": [
    "### 2021/08/14 일 부로 Git Hub에서 ID/PW기반의 Basic Authentication 인증을 금지하고,ID/Personal Access Token 방식의 Token Authentication 인증을 요구하고 있다.\n",
    "\n",
    "- ### Git Token 발급 방법 https://curryyou.tistory.com/344\n",
    "\n",
    "- ### 윈도우에서 비밀번호 → Token 으로 사용 변경하는 방법\n",
    "    - 제어판 → 사용자 계정 → 자격 증명 관리자 → Windows 자격 증명에 가셔서 github 정보를 수정"
   ]
  }
 ],
 "metadata": {
  "kernelspec": {
   "display_name": "Python 3",
   "language": "python",
   "name": "python3"
  },
  "language_info": {
   "codemirror_mode": {
    "name": "ipython",
    "version": 3
   },
   "file_extension": ".py",
   "mimetype": "text/x-python",
   "name": "python",
   "nbconvert_exporter": "python",
   "pygments_lexer": "ipython3",
   "version": "3.7.9"
  }
 },
 "nbformat": 4,
 "nbformat_minor": 4
}
