{
 "cells": [
  {
   "cell_type": "markdown",
   "metadata": {},
   "source": [
    "## Ch2. 스프링 웹 개발 기초\n",
    "  - ### 방법\n",
    "    - 정적 컨텐츠\n",
    "      - 파일을 그대로 웹 브라우저에 전달\n",
    "    - MVC와 템플릿 엔진\n",
    "      - JSP / php / … \n",
    "      - MVC – model view controller\n",
    "      - server에서 html을 변형하여 웹 브라우저에 전달\n",
    "    - API\n",
    "      - JSON 형태의 데이터를 클라이언트에게 전달\n",
    "      - Server 사이의 통신에 사용\n",
    "  - ### 정적 컨텐츠\n",
    "    - Spring boot 가 자동적으로 지원\n",
    "    - /static/ → 프로그래밍 못함\n",
    "    - 구동 방식\n",
    "      - 브라우저 → 톰켓 서버 request\n",
    "        - 컨트롤러 없을 시 → static 내에서 파일 찾음 → 정적 컨텐츠 반환\n",
    "\n",
    "![](img2-1.png)\n",
    "\n",
    "- ### MVC와 템플릿 엔진\n",
    "  - MVC – Model ,View, Controller\n",
    "    - 역할을 나눔\n",
    "    - View\n",
    "      - 화면을 그리는데 집중 – html 파일\n",
    "    - Model, Controller\n",
    "      - 비즈니스 로직에 집중\n",
    "  - 파라미터 전달 방법\n",
    "    - ?name=전달 → ?파라미터 이름=전달할 값 \n",
    "  - 구동 방식\n",
    "    - 브라우저 → 톰켓 서버 request with parameter\n",
    "    - Controller 가 해당 request 처리 후 viewResolver에게 반환\n",
    "    - viewResolver가 html 파일 변환 후 웹 브라우저에게 반환\n",
    "\n",
    "![](img2-2.png)\n",
    "\n",
    "- ### API\n",
    "  - @ResponseBody – http body에 직접 데이터를 넣어준다.\n",
    "  - 뷰가 없이 문자 그대로 내려간다. → 소스파일이 html파일이 아닌 문자 그대로 내려줌\n",
    "  - 객체를 만들어 getter setter를 활용해 JSON 형태로 데이터 넘겨줌\n",
    "    - 심플함\n",
    "  - getter / setter\n",
    "    - javabean 조약\n",
    "    - private 객체를 get / set 메서드를 활용하여 접근\n",
    "    - property 접근 방식\n",
    "  - 구동 방식\n",
    "    - @ResponseBody 사용원리\n",
    "      - 브라우저 → 톰켓 서버 request with parameter\n",
    "      - @ResponseBody 있을 시 → http의 body에 객체를 반환 \n",
    "        → HttpMessageConverter 가 default로 JSON 방식 변환 후 전달 - JsonConverter\n",
    "        → 문자 일시 StringConverter 수행 \n",
    "\n",
    "![](img2-3.png)\n"
   ]
  }
 ],
 "metadata": {
  "kernelspec": {
   "display_name": "Python 3",
   "language": "python",
   "name": "python3"
  },
  "language_info": {
   "codemirror_mode": {
    "name": "ipython",
    "version": 3
   },
   "file_extension": ".py",
   "mimetype": "text/x-python",
   "name": "python",
   "nbconvert_exporter": "python",
   "pygments_lexer": "ipython3",
   "version": "3.7.9"
  }
 },
 "nbformat": 4,
 "nbformat_minor": 4
}
