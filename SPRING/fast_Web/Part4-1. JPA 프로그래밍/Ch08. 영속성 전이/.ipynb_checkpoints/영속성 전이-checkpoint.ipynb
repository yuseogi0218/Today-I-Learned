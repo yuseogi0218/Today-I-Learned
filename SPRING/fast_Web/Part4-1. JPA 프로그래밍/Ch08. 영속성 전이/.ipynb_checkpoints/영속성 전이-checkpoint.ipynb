{
 "cells": [
  {
   "cell_type": "markdown",
   "id": "1092f997",
   "metadata": {},
   "source": [
    "### 01. Cascade (전이)\n",
    "- 연관관계가 있을 때, Cascade 타입 설정\n",
    "- default 값은 {} 이다. - 어떠한 영속성도 전이하지 않는다.\n",
    "- ALL : 상위 엔터티에서 하위 엔터티로 모든 작업을 전파\n",
    "- PERSIST : 하위 엔티티까지 영속성 전달\n",
    "- MERGE : 하위 엔티티까지 병합 작업을 지속\n",
    "- REMOVE : 하위 엔티티까지 제거 작업을 지속, 연결된 하위 엔티티까지 제거\n",
    "- REFRESH : 데이터베이스로부터 인스턴스 값을 다시 읽어 오기(새로고침), 연결된 하위 엔티티까지 인스턴스 값 새로고침\n",
    "- DETACH : 영속성 컨텍스트에서 엔티티 제거, 연결된 하위 엔터티 까지 영속성 제거\n",
    "\n",
    "### 02. 고아제거속성 (OrphanRemoval)\n",
    "- 연관관계의 Cascade 타입을 REMOVE로 설정\n",
    "- 상위 Entity 제거 시, 하위 Entity 들도 같이 제거된다.\n",
    "- @ManyToOne(cascade = CascadeType.REMOVE)\n",
    "    - 상위 Entity 하나 제거 시, One 에 해당하는 것도 제거되므로\n",
    "    - Many에 남아있는 것들은 고아 상태가 된다\n",
    "    - 이것을 방지하기 위해, @OneToMany(orphanRemoval = false) 설정\n",
    "        - spring이 자동으로 update 쿼리를 실행하여서 연관관계를 제거한다.\n",
    "\n",
    "### 03. softDelete\n",
    "- 일종의 flag를 활용하여 지워졌다는 표시를 함\n",
    "- ex) private boolean deleted; 활용\n",
    "- 조회시, delted == true 인것들은 조회되면 안된다. - 삭제된 데이터로 취급을 해야한다.\n",
    "- @Where 를 해당 Entity에 추가한다.\n",
    "    - @Where(clause = \"deleted = false\")\n",
    "- 사용 X - JPA 메서드 생성시 \"DeletedFalse\" 를 활용하여 메서드를 생성한다."
   ]
  }
 ],
 "metadata": {
  "kernelspec": {
   "display_name": "Python 3 (ipykernel)",
   "language": "python",
   "name": "python3"
  },
  "language_info": {
   "codemirror_mode": {
    "name": "ipython",
    "version": 3
   },
   "file_extension": ".py",
   "mimetype": "text/x-python",
   "name": "python",
   "nbconvert_exporter": "python",
   "pygments_lexer": "ipython3",
   "version": "3.9.7"
  }
 },
 "nbformat": 4,
 "nbformat_minor": 5
}
