{
 "cells": [
  {
   "cell_type": "markdown",
   "id": "ae0ecd4c",
   "metadata": {},
   "source": [
    "## Embedded ( 복합 값)\n",
    "### 01. 필요성\n",
    "- 가격\n",
    "    - 공급가 + 부가세 = total 가격\n",
    "    - 위 가격들이 묶음으로 활용됨\n",
    "- 주소\n",
    "    - 도, 시, 구, 군, 우편번호\n",
    "\n",
    "### 02. @Embedded\n",
    "- 컬럼위에 부착 - 해당 컬럼이 임베디드 되었다는 것을 의미함\n",
    "\n",
    "### 03. @Embeddable\n",
    "- 임베드를 할 수 있는 클래스를 의미함\n",
    "\n",
    "### 04. 속성의 재정의 - @AttributeOverrides\n",
    "- 동일한 객체를 Embedded 로 사용하여 해당 속성 값들을 재정의 함\n",
    "- 코드가 지저분해질 수 있음\n",
    "    - 객체를 따로 만들어서 하기도 함"
   ]
  }
 ],
 "metadata": {
  "kernelspec": {
   "display_name": "Python 3 (ipykernel)",
   "language": "python",
   "name": "python3"
  },
  "language_info": {
   "codemirror_mode": {
    "name": "ipython",
    "version": 3
   },
   "file_extension": ".py",
   "mimetype": "text/x-python",
   "name": "python",
   "nbconvert_exporter": "python",
   "pygments_lexer": "ipython3",
   "version": "3.9.7"
  }
 },
 "nbformat": 4,
 "nbformat_minor": 5
}
