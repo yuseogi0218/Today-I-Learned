{
 "cells": [
  {
   "cell_type": "markdown",
   "id": "bf39bd60",
   "metadata": {},
   "source": [
    "## JUnit 이란\n",
    "- ### TDD (Test Driven Development)\n",
    "    - 테스트 주도 개발에서 사용하지만, 코드의 유지 보수 및 운영 환경에서의 에러를 미리 방지 하기 위해서 단위 별로 검증 하는 테스트 프레임워크\n",
    "\n",
    "- ### 단위 테스트\n",
    "    - 작성한 코드가 기대하는 대로 동작을 하는지 검증하는 절차\n",
    "\n",
    "- ### JUnit\n",
    "    - Java 기반의 단위 테스트를 위한 프레임워크\n",
    "    - Annotation 기반으로 테스트를 지원\n",
    "    - Assert를 통하여 ,(예상, 실제)를 통해 검증\n",
    "    \n",
    "## 테스트 커버리지 확인하기\n",
    "- ### Jacoco\n",
    "    - Java코드의 커버리지를 체크하는 라이브러리\n",
    "        결과를 html, xml, csv로 바로 확인 할 수 있다.\n",
    "    - build.gradle 에 id 'jacoco' 추가"
   ]
  }
 ],
 "metadata": {
  "kernelspec": {
   "display_name": "Python 3 (ipykernel)",
   "language": "python",
   "name": "python3"
  },
  "language_info": {
   "codemirror_mode": {
    "name": "ipython",
    "version": 3
   },
   "file_extension": ".py",
   "mimetype": "text/x-python",
   "name": "python",
   "nbconvert_exporter": "python",
   "pygments_lexer": "ipython3",
   "version": "3.9.7"
  }
 },
 "nbformat": 4,
 "nbformat_minor": 5
}
