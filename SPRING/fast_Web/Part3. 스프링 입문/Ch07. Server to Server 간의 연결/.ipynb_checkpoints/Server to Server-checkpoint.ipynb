{
 "cells": [
  {
   "cell_type": "markdown",
   "id": "3c697a6e",
   "metadata": {},
   "source": [
    "### Rest Template 사용하기\n",
    "- Client (8080) & Server (9090) 연결\n",
    "- UriComponentBuilder → RestTemplate → ResponseEntity\n",
    "\n",
    "### Naver 지역 검색 API"
   ]
  }
 ],
 "metadata": {
  "kernelspec": {
   "display_name": "Python 3 (ipykernel)",
   "language": "python",
   "name": "python3"
  },
  "language_info": {
   "codemirror_mode": {
    "name": "ipython",
    "version": 3
   },
   "file_extension": ".py",
   "mimetype": "text/x-python",
   "name": "python",
   "nbconvert_exporter": "python",
   "pygments_lexer": "ipython3",
   "version": "3.9.7"
  }
 },
 "nbformat": 4,
 "nbformat_minor": 5
}
